{
 "cells": [
  {
   "cell_type": "code",
   "execution_count": 1,
   "id": "d9de32f5-6cbf-48ec-bb52-a72cb6c5b411",
   "metadata": {},
   "outputs": [],
   "source": [
    "filename = \"data/small-01.csv\""
   ]
  },
  {
   "cell_type": "code",
   "execution_count": 2,
   "id": "63c579de-e57b-48ae-8bfe-654a26be68fe",
   "metadata": {},
   "outputs": [
    {
     "name": "stderr",
     "output_type": "stream",
     "text": [
      "usage: ipykernel_launcher.py [-h] infiles [infiles ...]\n",
      "ipykernel_launcher.py: error: unrecognized arguments: -f\n"
     ]
    },
    {
     "ename": "SystemExit",
     "evalue": "2",
     "output_type": "error",
     "traceback": [
      "An exception has occurred, use %tb to see the full traceback.\n",
      "\u001b[0;31mSystemExit\u001b[0m\u001b[0;31m:\u001b[0m 2\n"
     ]
    },
    {
     "name": "stderr",
     "output_type": "stream",
     "text": [
      "/srv/conda/envs/notebook/lib/python3.10/site-packages/IPython/core/interactiveshell.py:3585: UserWarning: To exit: use 'exit', 'quit', or Ctrl-D.\n",
      "  warn(\"To exit: use 'exit', 'quit', or Ctrl-D.\", stacklevel=1)\n"
     ]
    }
   ],
   "source": [
    "import argparse\n",
    "\n",
    "from inflammation import models, views\n",
    "\n",
    "\n",
    "def main(args):\n",
    "    \"\"\"The MVC Controller of the patient inflammation data system.\n",
    "\n",
    "    The Controller is responsible for:\n",
    "    - selecting the necessary models and views for the current task\n",
    "    - passing data between models and views\n",
    "    \"\"\"\n",
    "    InFiles = args.infiles\n",
    "    if not isinstance(InFiles, list):\n",
    "        InFiles = [args.infiles]\n",
    "\n",
    "\n",
    "    for filename in InFiles:\n",
    "        inflammation_data = models.load_csv(filename)\n",
    "\n",
    "        view_data = {'average': models.daily_mean(inflammation_data), 'max': models.daily_max(inflammation_data), 'min': models.daily_min(inflammation_data)}\n",
    "\n",
    "        views.visualize(view_data)\n",
    "\n",
    "if __name__ == \"__main__\":\n",
    "    parser = argparse.ArgumentParser(\n",
    "        description='A basic patient inflammation data management system')\n",
    "\n",
    "    parser.add_argument(\n",
    "        'infiles',\n",
    "        nargs='+',\n",
    "        help='Input CSV(s) containing inflammation series for each patient')\n",
    "\n",
    "    args = parser.parse_args()\n",
    "\n",
    "    main(args)"
   ]
  },
  {
   "cell_type": "code",
   "execution_count": null,
   "id": "b2c1dbfd-a034-47d5-a11d-4841ac2fd8c0",
   "metadata": {},
   "outputs": [],
   "source": []
  }
 ],
 "metadata": {
  "kernelspec": {
   "display_name": "Python 3 (ipykernel)",
   "language": "python",
   "name": "python3"
  },
  "language_info": {
   "codemirror_mode": {
    "name": "ipython",
    "version": 3
   },
   "file_extension": ".py",
   "mimetype": "text/x-python",
   "name": "python",
   "nbconvert_exporter": "python",
   "pygments_lexer": "ipython3",
   "version": "3.10.14"
  }
 },
 "nbformat": 4,
 "nbformat_minor": 5
}
